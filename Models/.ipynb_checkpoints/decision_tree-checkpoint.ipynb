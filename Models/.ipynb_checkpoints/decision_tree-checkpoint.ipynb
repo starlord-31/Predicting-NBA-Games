{
 "cells": [
  {
   "cell_type": "code",
   "execution_count": 12,
   "metadata": {},
   "outputs": [],
   "source": [
    "import pandas as pd \n",
    "import numpy as np\n",
    "import matplotlib.pyplot as plt\n",
    "import plotly.express as px\n",
    "import plotly.figure_factory as ff\n",
    "import plotly.graph_objects as go\n",
    "from sklearn.preprocessing import StandardScaler\n",
    "from sklearn.model_selection import train_test_split\n",
    "from sklearn.tree import DecisionTreeClassifier\n",
    "from sklearn.metrics import accuracy_score\n",
    "from sklearn.metrics import confusion_matrix\n"
   ]
  },
  {
   "cell_type": "code",
   "execution_count": 2,
   "metadata": {},
   "outputs": [
    {
     "data": {
      "text/html": [
       "<div>\n",
       "<style scoped>\n",
       "    .dataframe tbody tr th:only-of-type {\n",
       "        vertical-align: middle;\n",
       "    }\n",
       "\n",
       "    .dataframe tbody tr th {\n",
       "        vertical-align: top;\n",
       "    }\n",
       "\n",
       "    .dataframe thead th {\n",
       "        text-align: right;\n",
       "    }\n",
       "</style>\n",
       "<table border=\"1\" class=\"dataframe\">\n",
       "  <thead>\n",
       "    <tr style=\"text-align: right;\">\n",
       "      <th></th>\n",
       "      <th>game_id</th>\n",
       "      <th>date</th>\n",
       "      <th>team</th>\n",
       "      <th>total</th>\n",
       "      <th>team_opp</th>\n",
       "      <th>total_opp</th>\n",
       "      <th>won</th>\n",
       "      <th>fg</th>\n",
       "      <th>fga</th>\n",
       "      <th>fg%</th>\n",
       "      <th>...</th>\n",
       "      <th>opp_season_avg_ft%</th>\n",
       "      <th>opp_season_avg_orb</th>\n",
       "      <th>opp_season_avg_drb</th>\n",
       "      <th>opp_season_avg_trb</th>\n",
       "      <th>opp_season_avg_ast</th>\n",
       "      <th>opp_season_avg_stl</th>\n",
       "      <th>opp_season_avg_blk</th>\n",
       "      <th>opp_season_avg_tov</th>\n",
       "      <th>opp_season_avg_pf</th>\n",
       "      <th>opp_season_avg_pts</th>\n",
       "    </tr>\n",
       "  </thead>\n",
       "  <tbody>\n",
       "    <tr>\n",
       "      <th>0</th>\n",
       "      <td>2015-10-27_ATL_DET</td>\n",
       "      <td>2015-10-27</td>\n",
       "      <td>DET</td>\n",
       "      <td>106</td>\n",
       "      <td>ATL</td>\n",
       "      <td>94</td>\n",
       "      <td>True</td>\n",
       "      <td>37.0</td>\n",
       "      <td>96.0</td>\n",
       "      <td>0.385</td>\n",
       "      <td>...</td>\n",
       "      <td>0.800</td>\n",
       "      <td>7.0</td>\n",
       "      <td>33.0</td>\n",
       "      <td>40.0</td>\n",
       "      <td>22.0</td>\n",
       "      <td>9.0</td>\n",
       "      <td>4.0</td>\n",
       "      <td>15.0</td>\n",
       "      <td>25.0</td>\n",
       "      <td>94.0</td>\n",
       "    </tr>\n",
       "    <tr>\n",
       "      <th>1</th>\n",
       "      <td>2015-10-27_ATL_DET</td>\n",
       "      <td>2015-10-27</td>\n",
       "      <td>ATL</td>\n",
       "      <td>94</td>\n",
       "      <td>DET</td>\n",
       "      <td>106</td>\n",
       "      <td>False</td>\n",
       "      <td>37.0</td>\n",
       "      <td>82.0</td>\n",
       "      <td>0.451</td>\n",
       "      <td>...</td>\n",
       "      <td>0.769</td>\n",
       "      <td>23.0</td>\n",
       "      <td>36.0</td>\n",
       "      <td>59.0</td>\n",
       "      <td>23.0</td>\n",
       "      <td>5.0</td>\n",
       "      <td>3.0</td>\n",
       "      <td>15.0</td>\n",
       "      <td>15.0</td>\n",
       "      <td>106.0</td>\n",
       "    </tr>\n",
       "    <tr>\n",
       "      <th>2</th>\n",
       "      <td>2015-10-27_CHI_CLE</td>\n",
       "      <td>2015-10-27</td>\n",
       "      <td>CLE</td>\n",
       "      <td>95</td>\n",
       "      <td>CHI</td>\n",
       "      <td>97</td>\n",
       "      <td>False</td>\n",
       "      <td>38.0</td>\n",
       "      <td>94.0</td>\n",
       "      <td>0.404</td>\n",
       "      <td>...</td>\n",
       "      <td>0.696</td>\n",
       "      <td>7.0</td>\n",
       "      <td>40.0</td>\n",
       "      <td>47.0</td>\n",
       "      <td>13.0</td>\n",
       "      <td>6.0</td>\n",
       "      <td>10.0</td>\n",
       "      <td>13.0</td>\n",
       "      <td>22.0</td>\n",
       "      <td>97.0</td>\n",
       "    </tr>\n",
       "    <tr>\n",
       "      <th>3</th>\n",
       "      <td>2015-10-27_CHI_CLE</td>\n",
       "      <td>2015-10-27</td>\n",
       "      <td>CHI</td>\n",
       "      <td>97</td>\n",
       "      <td>CLE</td>\n",
       "      <td>95</td>\n",
       "      <td>True</td>\n",
       "      <td>37.0</td>\n",
       "      <td>87.0</td>\n",
       "      <td>0.425</td>\n",
       "      <td>...</td>\n",
       "      <td>0.588</td>\n",
       "      <td>11.0</td>\n",
       "      <td>39.0</td>\n",
       "      <td>50.0</td>\n",
       "      <td>26.0</td>\n",
       "      <td>5.0</td>\n",
       "      <td>7.0</td>\n",
       "      <td>10.0</td>\n",
       "      <td>21.0</td>\n",
       "      <td>95.0</td>\n",
       "    </tr>\n",
       "    <tr>\n",
       "      <th>4</th>\n",
       "      <td>2015-10-27_GSW_NOP</td>\n",
       "      <td>2015-10-27</td>\n",
       "      <td>NOP</td>\n",
       "      <td>95</td>\n",
       "      <td>GSW</td>\n",
       "      <td>111</td>\n",
       "      <td>False</td>\n",
       "      <td>35.0</td>\n",
       "      <td>83.0</td>\n",
       "      <td>0.422</td>\n",
       "      <td>...</td>\n",
       "      <td>0.909</td>\n",
       "      <td>21.0</td>\n",
       "      <td>35.0</td>\n",
       "      <td>56.0</td>\n",
       "      <td>29.0</td>\n",
       "      <td>8.0</td>\n",
       "      <td>7.0</td>\n",
       "      <td>20.0</td>\n",
       "      <td>29.0</td>\n",
       "      <td>111.0</td>\n",
       "    </tr>\n",
       "  </tbody>\n",
       "</table>\n",
       "<p>5 rows × 177 columns</p>\n",
       "</div>"
      ],
      "text/plain": [
       "              game_id        date team  total team_opp  total_opp    won  \\\n",
       "0  2015-10-27_ATL_DET  2015-10-27  DET    106      ATL         94   True   \n",
       "1  2015-10-27_ATL_DET  2015-10-27  ATL     94      DET        106  False   \n",
       "2  2015-10-27_CHI_CLE  2015-10-27  CLE     95      CHI         97  False   \n",
       "3  2015-10-27_CHI_CLE  2015-10-27  CHI     97      CLE         95   True   \n",
       "4  2015-10-27_GSW_NOP  2015-10-27  NOP     95      GSW        111  False   \n",
       "\n",
       "     fg   fga    fg%  ...  opp_season_avg_ft%  opp_season_avg_orb  \\\n",
       "0  37.0  96.0  0.385  ...               0.800                 7.0   \n",
       "1  37.0  82.0  0.451  ...               0.769                23.0   \n",
       "2  38.0  94.0  0.404  ...               0.696                 7.0   \n",
       "3  37.0  87.0  0.425  ...               0.588                11.0   \n",
       "4  35.0  83.0  0.422  ...               0.909                21.0   \n",
       "\n",
       "   opp_season_avg_drb  opp_season_avg_trb  opp_season_avg_ast  \\\n",
       "0                33.0                40.0                22.0   \n",
       "1                36.0                59.0                23.0   \n",
       "2                40.0                47.0                13.0   \n",
       "3                39.0                50.0                26.0   \n",
       "4                35.0                56.0                29.0   \n",
       "\n",
       "   opp_season_avg_stl  opp_season_avg_blk  opp_season_avg_tov  \\\n",
       "0                 9.0                 4.0                15.0   \n",
       "1                 5.0                 3.0                15.0   \n",
       "2                 6.0                10.0                13.0   \n",
       "3                 5.0                 7.0                10.0   \n",
       "4                 8.0                 7.0                20.0   \n",
       "\n",
       "   opp_season_avg_pf  opp_season_avg_pts  \n",
       "0               25.0                94.0  \n",
       "1               15.0               106.0  \n",
       "2               22.0                97.0  \n",
       "3               21.0                95.0  \n",
       "4               29.0               111.0  \n",
       "\n",
       "[5 rows x 177 columns]"
      ]
     },
     "execution_count": 2,
     "metadata": {},
     "output_type": "execute_result"
    }
   ],
   "source": [
    "df = pd.read_csv('../nba_games_cleaned_with_avgs.csv', index_col = False)\n",
    "df.head()"
   ]
  },
  {
   "cell_type": "code",
   "execution_count": 3,
   "metadata": {},
   "outputs": [
    {
     "data": {
      "text/plain": [
       "array(['game_id', 'date', 'team', 'total', 'team_opp', 'total_opp', 'won',\n",
       "       'fg', 'fga', 'fg%', '3p', '3pa', '3p%', 'ft', 'fta', 'ft%', 'orb',\n",
       "       'drb', 'trb', 'ast', 'stl', 'blk', 'tov', 'pf', 'pts', 'ts%',\n",
       "       'efg%', '3par', 'ftr', 'orb%', 'drb%', 'trb%', 'ast%', 'stl%',\n",
       "       'blk%', 'tov%', 'usg%', 'ortg', 'drtg', 'fg_max', 'fga_max',\n",
       "       'fg%_max', '3p_max', '3pa_max', '3p%_max', 'ft_max', 'fta_max',\n",
       "       'ft%_max', 'orb_max', 'drb_max', 'trb_max', 'ast_max', 'stl_max',\n",
       "       'blk_max', 'tov_max', 'pf_max', 'pts_max', '+/-_max', 'ts%_max',\n",
       "       'efg%_max', '3par_max', 'ftr_max', 'orb%_max', 'drb%_max',\n",
       "       'trb%_max', 'ast%_max', 'stl%_max', 'blk%_max', 'tov%_max',\n",
       "       'usg%_max', 'ortg_max', 'drtg_max', 'home', 'index_opp', 'fg_opp',\n",
       "       'fga_opp', 'fg%_opp', '3p_opp', '3pa_opp', '3p%_opp', 'ft_opp',\n",
       "       'fta_opp', 'ft%_opp', 'orb_opp', 'drb_opp', 'trb_opp', 'ast_opp',\n",
       "       'stl_opp', 'blk_opp', 'tov_opp', 'pf_opp', 'pts_opp', 'ts%_opp',\n",
       "       'efg%_opp', '3par_opp', 'ftr_opp', 'orb%_opp', 'drb%_opp',\n",
       "       'trb%_opp', 'ast%_opp', 'stl%_opp', 'blk%_opp', 'tov%_opp',\n",
       "       'usg%_opp', 'ortg_opp', 'drtg_opp', 'fg_max_opp', 'fga_max_opp',\n",
       "       'fg%_max_opp', '3p_max_opp', '3pa_max_opp', '3p%_max_opp',\n",
       "       'ft_max_opp', 'fta_max_opp', 'ft%_max_opp', 'orb_max_opp',\n",
       "       'drb_max_opp', 'trb_max_opp', 'ast_max_opp', 'stl_max_opp',\n",
       "       'blk_max_opp', 'tov_max_opp', 'pf_max_opp', 'pts_max_opp',\n",
       "       '+/-_max_opp', 'ts%_max_opp', 'efg%_max_opp', '3par_max_opp',\n",
       "       'ftr_max_opp', 'orb%_max_opp', 'drb%_max_opp', 'trb%_max_opp',\n",
       "       'ast%_max_opp', 'stl%_max_opp', 'blk%_max_opp', 'tov%_max_opp',\n",
       "       'usg%_max_opp', 'ortg_max_opp', 'drtg_max_opp', 'home_opp',\n",
       "       'season', 'season_avg_fg', 'season_avg_fga', 'season_avg_fg%',\n",
       "       'season_avg_3p', 'season_avg_3pa', 'season_avg_3p%',\n",
       "       'season_avg_ft', 'season_avg_fta', 'season_avg_ft%',\n",
       "       'season_avg_orb', 'season_avg_drb', 'season_avg_trb',\n",
       "       'season_avg_ast', 'season_avg_stl', 'season_avg_blk',\n",
       "       'season_avg_tov', 'season_avg_pf', 'season_avg_pts',\n",
       "       'opp_season_avg_fg', 'opp_season_avg_fga', 'opp_season_avg_fg%',\n",
       "       'opp_season_avg_3p', 'opp_season_avg_3pa', 'opp_season_avg_3p%',\n",
       "       'opp_season_avg_ft', 'opp_season_avg_fta', 'opp_season_avg_ft%',\n",
       "       'opp_season_avg_orb', 'opp_season_avg_drb', 'opp_season_avg_trb',\n",
       "       'opp_season_avg_ast', 'opp_season_avg_stl', 'opp_season_avg_blk',\n",
       "       'opp_season_avg_tov', 'opp_season_avg_pf', 'opp_season_avg_pts'],\n",
       "      dtype=object)"
      ]
     },
     "execution_count": 3,
     "metadata": {},
     "output_type": "execute_result"
    }
   ],
   "source": [
    "df.columns.values"
   ]
  },
  {
   "cell_type": "code",
   "execution_count": null,
   "metadata": {},
   "outputs": [],
   "source": []
  },
  {
   "cell_type": "code",
   "execution_count": 4,
   "metadata": {},
   "outputs": [
    {
     "data": {
      "text/html": [
       "<div>\n",
       "<style scoped>\n",
       "    .dataframe tbody tr th:only-of-type {\n",
       "        vertical-align: middle;\n",
       "    }\n",
       "\n",
       "    .dataframe tbody tr th {\n",
       "        vertical-align: top;\n",
       "    }\n",
       "\n",
       "    .dataframe thead th {\n",
       "        text-align: right;\n",
       "    }\n",
       "</style>\n",
       "<table border=\"1\" class=\"dataframe\">\n",
       "  <thead>\n",
       "    <tr style=\"text-align: right;\">\n",
       "      <th></th>\n",
       "      <th>game_id</th>\n",
       "      <th>team</th>\n",
       "      <th>team_opp</th>\n",
       "      <th>won</th>\n",
       "      <th>home</th>\n",
       "      <th>season</th>\n",
       "      <th>season_avg_fg</th>\n",
       "      <th>season_avg_fga</th>\n",
       "      <th>season_avg_fg%</th>\n",
       "      <th>season_avg_3p</th>\n",
       "      <th>...</th>\n",
       "      <th>opp_season_avg_ft%</th>\n",
       "      <th>opp_season_avg_orb</th>\n",
       "      <th>opp_season_avg_drb</th>\n",
       "      <th>opp_season_avg_trb</th>\n",
       "      <th>opp_season_avg_ast</th>\n",
       "      <th>opp_season_avg_stl</th>\n",
       "      <th>opp_season_avg_blk</th>\n",
       "      <th>opp_season_avg_tov</th>\n",
       "      <th>opp_season_avg_pf</th>\n",
       "      <th>opp_season_avg_pts</th>\n",
       "    </tr>\n",
       "  </thead>\n",
       "  <tbody>\n",
       "    <tr>\n",
       "      <th>0</th>\n",
       "      <td>2015-10-27_ATL_DET</td>\n",
       "      <td>DET</td>\n",
       "      <td>ATL</td>\n",
       "      <td>True</td>\n",
       "      <td>0</td>\n",
       "      <td>2016</td>\n",
       "      <td>37.0</td>\n",
       "      <td>96.0</td>\n",
       "      <td>0.385</td>\n",
       "      <td>12.0</td>\n",
       "      <td>...</td>\n",
       "      <td>0.800</td>\n",
       "      <td>7.0</td>\n",
       "      <td>33.0</td>\n",
       "      <td>40.0</td>\n",
       "      <td>22.0</td>\n",
       "      <td>9.0</td>\n",
       "      <td>4.0</td>\n",
       "      <td>15.0</td>\n",
       "      <td>25.0</td>\n",
       "      <td>94.0</td>\n",
       "    </tr>\n",
       "    <tr>\n",
       "      <th>1</th>\n",
       "      <td>2015-10-27_ATL_DET</td>\n",
       "      <td>ATL</td>\n",
       "      <td>DET</td>\n",
       "      <td>False</td>\n",
       "      <td>1</td>\n",
       "      <td>2016</td>\n",
       "      <td>37.0</td>\n",
       "      <td>82.0</td>\n",
       "      <td>0.451</td>\n",
       "      <td>8.0</td>\n",
       "      <td>...</td>\n",
       "      <td>0.769</td>\n",
       "      <td>23.0</td>\n",
       "      <td>36.0</td>\n",
       "      <td>59.0</td>\n",
       "      <td>23.0</td>\n",
       "      <td>5.0</td>\n",
       "      <td>3.0</td>\n",
       "      <td>15.0</td>\n",
       "      <td>15.0</td>\n",
       "      <td>106.0</td>\n",
       "    </tr>\n",
       "    <tr>\n",
       "      <th>2</th>\n",
       "      <td>2015-10-27_CHI_CLE</td>\n",
       "      <td>CLE</td>\n",
       "      <td>CHI</td>\n",
       "      <td>False</td>\n",
       "      <td>0</td>\n",
       "      <td>2016</td>\n",
       "      <td>38.0</td>\n",
       "      <td>94.0</td>\n",
       "      <td>0.404</td>\n",
       "      <td>9.0</td>\n",
       "      <td>...</td>\n",
       "      <td>0.696</td>\n",
       "      <td>7.0</td>\n",
       "      <td>40.0</td>\n",
       "      <td>47.0</td>\n",
       "      <td>13.0</td>\n",
       "      <td>6.0</td>\n",
       "      <td>10.0</td>\n",
       "      <td>13.0</td>\n",
       "      <td>22.0</td>\n",
       "      <td>97.0</td>\n",
       "    </tr>\n",
       "    <tr>\n",
       "      <th>3</th>\n",
       "      <td>2015-10-27_CHI_CLE</td>\n",
       "      <td>CHI</td>\n",
       "      <td>CLE</td>\n",
       "      <td>True</td>\n",
       "      <td>1</td>\n",
       "      <td>2016</td>\n",
       "      <td>37.0</td>\n",
       "      <td>87.0</td>\n",
       "      <td>0.425</td>\n",
       "      <td>7.0</td>\n",
       "      <td>...</td>\n",
       "      <td>0.588</td>\n",
       "      <td>11.0</td>\n",
       "      <td>39.0</td>\n",
       "      <td>50.0</td>\n",
       "      <td>26.0</td>\n",
       "      <td>5.0</td>\n",
       "      <td>7.0</td>\n",
       "      <td>10.0</td>\n",
       "      <td>21.0</td>\n",
       "      <td>95.0</td>\n",
       "    </tr>\n",
       "    <tr>\n",
       "      <th>4</th>\n",
       "      <td>2015-10-27_GSW_NOP</td>\n",
       "      <td>NOP</td>\n",
       "      <td>GSW</td>\n",
       "      <td>False</td>\n",
       "      <td>0</td>\n",
       "      <td>2016</td>\n",
       "      <td>35.0</td>\n",
       "      <td>83.0</td>\n",
       "      <td>0.422</td>\n",
       "      <td>6.0</td>\n",
       "      <td>...</td>\n",
       "      <td>0.909</td>\n",
       "      <td>21.0</td>\n",
       "      <td>35.0</td>\n",
       "      <td>56.0</td>\n",
       "      <td>29.0</td>\n",
       "      <td>8.0</td>\n",
       "      <td>7.0</td>\n",
       "      <td>20.0</td>\n",
       "      <td>29.0</td>\n",
       "      <td>111.0</td>\n",
       "    </tr>\n",
       "  </tbody>\n",
       "</table>\n",
       "<p>5 rows × 42 columns</p>\n",
       "</div>"
      ],
      "text/plain": [
       "              game_id team team_opp    won  home  season  season_avg_fg  \\\n",
       "0  2015-10-27_ATL_DET  DET      ATL   True     0    2016           37.0   \n",
       "1  2015-10-27_ATL_DET  ATL      DET  False     1    2016           37.0   \n",
       "2  2015-10-27_CHI_CLE  CLE      CHI  False     0    2016           38.0   \n",
       "3  2015-10-27_CHI_CLE  CHI      CLE   True     1    2016           37.0   \n",
       "4  2015-10-27_GSW_NOP  NOP      GSW  False     0    2016           35.0   \n",
       "\n",
       "   season_avg_fga  season_avg_fg%  season_avg_3p  ...  opp_season_avg_ft%  \\\n",
       "0            96.0           0.385           12.0  ...               0.800   \n",
       "1            82.0           0.451            8.0  ...               0.769   \n",
       "2            94.0           0.404            9.0  ...               0.696   \n",
       "3            87.0           0.425            7.0  ...               0.588   \n",
       "4            83.0           0.422            6.0  ...               0.909   \n",
       "\n",
       "   opp_season_avg_orb  opp_season_avg_drb  opp_season_avg_trb  \\\n",
       "0                 7.0                33.0                40.0   \n",
       "1                23.0                36.0                59.0   \n",
       "2                 7.0                40.0                47.0   \n",
       "3                11.0                39.0                50.0   \n",
       "4                21.0                35.0                56.0   \n",
       "\n",
       "   opp_season_avg_ast  opp_season_avg_stl  opp_season_avg_blk  \\\n",
       "0                22.0                 9.0                 4.0   \n",
       "1                23.0                 5.0                 3.0   \n",
       "2                13.0                 6.0                10.0   \n",
       "3                26.0                 5.0                 7.0   \n",
       "4                29.0                 8.0                 7.0   \n",
       "\n",
       "   opp_season_avg_tov  opp_season_avg_pf  opp_season_avg_pts  \n",
       "0                15.0               25.0                94.0  \n",
       "1                15.0               15.0               106.0  \n",
       "2                13.0               22.0                97.0  \n",
       "3                10.0               21.0                95.0  \n",
       "4                20.0               29.0               111.0  \n",
       "\n",
       "[5 rows x 42 columns]"
      ]
     },
     "execution_count": 4,
     "metadata": {},
     "output_type": "execute_result"
    }
   ],
   "source": [
    "feature_selection = ['game_id', 'team', 'team_opp', 'won', 'home', 'season', 'season_avg_fg', 'season_avg_fga', 'season_avg_fg%', 'season_avg_3p', \n",
    "                     'season_avg_3pa', 'season_avg_3p%', 'season_avg_ft', 'season_avg_fta', 'season_avg_ft%','season_avg_orb', 'season_avg_drb', \n",
    "                     'season_avg_trb', 'season_avg_ast', 'season_avg_stl', 'season_avg_blk', 'season_avg_tov', 'season_avg_pf', 'season_avg_pts',\n",
    "                     'opp_season_avg_fg', 'opp_season_avg_fga', 'opp_season_avg_fg%','opp_season_avg_3p', 'opp_season_avg_3pa', 'opp_season_avg_3p%',\n",
    "                     'opp_season_avg_ft', 'opp_season_avg_fta', 'opp_season_avg_ft%', 'opp_season_avg_orb', 'opp_season_avg_drb', 'opp_season_avg_trb',\n",
    "                     'opp_season_avg_ast', 'opp_season_avg_stl', 'opp_season_avg_blk', 'opp_season_avg_tov', 'opp_season_avg_pf', 'opp_season_avg_pts']\n",
    "\n",
    "df_filtered = df[feature_selection]\n",
    "df_filtered.head()"
   ]
  },
  {
   "cell_type": "code",
   "execution_count": 24,
   "metadata": {},
   "outputs": [],
   "source": [
    "X = df_filtered.drop(['game_id', 'team', 'team_opp', 'won'], axis = 1)\n",
    "X = StandardScaler().fit_transform(X)\n",
    "y = df_filtered['won']\n",
    "\n",
    "X_train, X_test, y_train, y_test = train_test_split(X, y, test_size = 0.2, random_state = 42)"
   ]
  },
  {
   "cell_type": "code",
   "execution_count": 25,
   "metadata": {},
   "outputs": [],
   "source": [
    "def plot_confusion_matrix(cm):\n",
    "    cm = cm[::-1]\n",
    "    cm = pd.DataFrame(cm, columns = ['Predicted Win', 'Predicted Loss'], index = ['Actual Loss', 'Actual Win'])\n",
    "    fig = ff.create_annotated_heatmap(z = cm.values, x = list(cm.columns), y = list(cm.index), colorscale = 'Viridis')\n",
    "    fig.update_layout(title_text = 'Confusion Matrix', showlegend = True,\n",
    "                      width = 800, height = 400)\n",
    "    fig.show()\n",
    "\n",
    "def evaluate_model(model, X_train, X_test, y_train, y_test):\n",
    "    model.fit(X_train, y_train)\n",
    "    y_pred = model.predict(X_test)\n",
    "    accuracy = accuracy_score(y_test, y_pred)\n",
    "    cm = confusion_matrix(y_test, y_pred)\n",
    "    print(f\"Accuracy: {accuracy:.3f}\")\n",
    "    plot_confusion_matrix(cm)\n",
    "    "
   ]
  },
  {
   "cell_type": "code",
   "execution_count": 26,
   "metadata": {},
   "outputs": [
    {
     "name": "stdout",
     "output_type": "stream",
     "text": [
      "Accuracy: 0.574\n"
     ]
    },
    {
     "data": {
      "application/vnd.plotly.v1+json": {
       "config": {
        "plotlyServerURL": "https://plot.ly"
       },
       "data": [
        {
         "colorscale": [
          [
           0,
           "#440154"
          ],
          [
           0.1111111111111111,
           "#482878"
          ],
          [
           0.2222222222222222,
           "#3e4989"
          ],
          [
           0.3333333333333333,
           "#31688e"
          ],
          [
           0.4444444444444444,
           "#26828e"
          ],
          [
           0.5555555555555556,
           "#1f9e89"
          ],
          [
           0.6666666666666666,
           "#35b779"
          ],
          [
           0.7777777777777778,
           "#6ece58"
          ],
          [
           0.8888888888888888,
           "#b5de2b"
          ],
          [
           1,
           "#fde725"
          ]
         ],
         "reversescale": false,
         "showscale": false,
         "type": "heatmap",
         "x": [
          "Predicted Win",
          "Predicted Loss"
         ],
         "y": [
          "Actual Loss",
          "Actual Win"
         ],
         "z": [
          [
           772,
           1029
          ],
          [
           1010,
           744
          ]
         ]
        }
       ],
       "layout": {
        "annotations": [
         {
          "font": {
           "color": "#FFFFFF"
          },
          "showarrow": false,
          "text": "772",
          "x": "Predicted Win",
          "xref": "x",
          "y": "Actual Loss",
          "yref": "y"
         },
         {
          "font": {
           "color": "#000000"
          },
          "showarrow": false,
          "text": "1029",
          "x": "Predicted Loss",
          "xref": "x",
          "y": "Actual Loss",
          "yref": "y"
         },
         {
          "font": {
           "color": "#000000"
          },
          "showarrow": false,
          "text": "1010",
          "x": "Predicted Win",
          "xref": "x",
          "y": "Actual Win",
          "yref": "y"
         },
         {
          "font": {
           "color": "#FFFFFF"
          },
          "showarrow": false,
          "text": "744",
          "x": "Predicted Loss",
          "xref": "x",
          "y": "Actual Win",
          "yref": "y"
         }
        ],
        "height": 400,
        "showlegend": true,
        "template": {
         "data": {
          "bar": [
           {
            "error_x": {
             "color": "#2a3f5f"
            },
            "error_y": {
             "color": "#2a3f5f"
            },
            "marker": {
             "line": {
              "color": "#E5ECF6",
              "width": 0.5
             },
             "pattern": {
              "fillmode": "overlay",
              "size": 10,
              "solidity": 0.2
             }
            },
            "type": "bar"
           }
          ],
          "barpolar": [
           {
            "marker": {
             "line": {
              "color": "#E5ECF6",
              "width": 0.5
             },
             "pattern": {
              "fillmode": "overlay",
              "size": 10,
              "solidity": 0.2
             }
            },
            "type": "barpolar"
           }
          ],
          "carpet": [
           {
            "aaxis": {
             "endlinecolor": "#2a3f5f",
             "gridcolor": "white",
             "linecolor": "white",
             "minorgridcolor": "white",
             "startlinecolor": "#2a3f5f"
            },
            "baxis": {
             "endlinecolor": "#2a3f5f",
             "gridcolor": "white",
             "linecolor": "white",
             "minorgridcolor": "white",
             "startlinecolor": "#2a3f5f"
            },
            "type": "carpet"
           }
          ],
          "choropleth": [
           {
            "colorbar": {
             "outlinewidth": 0,
             "ticks": ""
            },
            "type": "choropleth"
           }
          ],
          "contour": [
           {
            "colorbar": {
             "outlinewidth": 0,
             "ticks": ""
            },
            "colorscale": [
             [
              0,
              "#0d0887"
             ],
             [
              0.1111111111111111,
              "#46039f"
             ],
             [
              0.2222222222222222,
              "#7201a8"
             ],
             [
              0.3333333333333333,
              "#9c179e"
             ],
             [
              0.4444444444444444,
              "#bd3786"
             ],
             [
              0.5555555555555556,
              "#d8576b"
             ],
             [
              0.6666666666666666,
              "#ed7953"
             ],
             [
              0.7777777777777778,
              "#fb9f3a"
             ],
             [
              0.8888888888888888,
              "#fdca26"
             ],
             [
              1,
              "#f0f921"
             ]
            ],
            "type": "contour"
           }
          ],
          "contourcarpet": [
           {
            "colorbar": {
             "outlinewidth": 0,
             "ticks": ""
            },
            "type": "contourcarpet"
           }
          ],
          "heatmap": [
           {
            "colorbar": {
             "outlinewidth": 0,
             "ticks": ""
            },
            "colorscale": [
             [
              0,
              "#0d0887"
             ],
             [
              0.1111111111111111,
              "#46039f"
             ],
             [
              0.2222222222222222,
              "#7201a8"
             ],
             [
              0.3333333333333333,
              "#9c179e"
             ],
             [
              0.4444444444444444,
              "#bd3786"
             ],
             [
              0.5555555555555556,
              "#d8576b"
             ],
             [
              0.6666666666666666,
              "#ed7953"
             ],
             [
              0.7777777777777778,
              "#fb9f3a"
             ],
             [
              0.8888888888888888,
              "#fdca26"
             ],
             [
              1,
              "#f0f921"
             ]
            ],
            "type": "heatmap"
           }
          ],
          "heatmapgl": [
           {
            "colorbar": {
             "outlinewidth": 0,
             "ticks": ""
            },
            "colorscale": [
             [
              0,
              "#0d0887"
             ],
             [
              0.1111111111111111,
              "#46039f"
             ],
             [
              0.2222222222222222,
              "#7201a8"
             ],
             [
              0.3333333333333333,
              "#9c179e"
             ],
             [
              0.4444444444444444,
              "#bd3786"
             ],
             [
              0.5555555555555556,
              "#d8576b"
             ],
             [
              0.6666666666666666,
              "#ed7953"
             ],
             [
              0.7777777777777778,
              "#fb9f3a"
             ],
             [
              0.8888888888888888,
              "#fdca26"
             ],
             [
              1,
              "#f0f921"
             ]
            ],
            "type": "heatmapgl"
           }
          ],
          "histogram": [
           {
            "marker": {
             "pattern": {
              "fillmode": "overlay",
              "size": 10,
              "solidity": 0.2
             }
            },
            "type": "histogram"
           }
          ],
          "histogram2d": [
           {
            "colorbar": {
             "outlinewidth": 0,
             "ticks": ""
            },
            "colorscale": [
             [
              0,
              "#0d0887"
             ],
             [
              0.1111111111111111,
              "#46039f"
             ],
             [
              0.2222222222222222,
              "#7201a8"
             ],
             [
              0.3333333333333333,
              "#9c179e"
             ],
             [
              0.4444444444444444,
              "#bd3786"
             ],
             [
              0.5555555555555556,
              "#d8576b"
             ],
             [
              0.6666666666666666,
              "#ed7953"
             ],
             [
              0.7777777777777778,
              "#fb9f3a"
             ],
             [
              0.8888888888888888,
              "#fdca26"
             ],
             [
              1,
              "#f0f921"
             ]
            ],
            "type": "histogram2d"
           }
          ],
          "histogram2dcontour": [
           {
            "colorbar": {
             "outlinewidth": 0,
             "ticks": ""
            },
            "colorscale": [
             [
              0,
              "#0d0887"
             ],
             [
              0.1111111111111111,
              "#46039f"
             ],
             [
              0.2222222222222222,
              "#7201a8"
             ],
             [
              0.3333333333333333,
              "#9c179e"
             ],
             [
              0.4444444444444444,
              "#bd3786"
             ],
             [
              0.5555555555555556,
              "#d8576b"
             ],
             [
              0.6666666666666666,
              "#ed7953"
             ],
             [
              0.7777777777777778,
              "#fb9f3a"
             ],
             [
              0.8888888888888888,
              "#fdca26"
             ],
             [
              1,
              "#f0f921"
             ]
            ],
            "type": "histogram2dcontour"
           }
          ],
          "mesh3d": [
           {
            "colorbar": {
             "outlinewidth": 0,
             "ticks": ""
            },
            "type": "mesh3d"
           }
          ],
          "parcoords": [
           {
            "line": {
             "colorbar": {
              "outlinewidth": 0,
              "ticks": ""
             }
            },
            "type": "parcoords"
           }
          ],
          "pie": [
           {
            "automargin": true,
            "type": "pie"
           }
          ],
          "scatter": [
           {
            "fillpattern": {
             "fillmode": "overlay",
             "size": 10,
             "solidity": 0.2
            },
            "type": "scatter"
           }
          ],
          "scatter3d": [
           {
            "line": {
             "colorbar": {
              "outlinewidth": 0,
              "ticks": ""
             }
            },
            "marker": {
             "colorbar": {
              "outlinewidth": 0,
              "ticks": ""
             }
            },
            "type": "scatter3d"
           }
          ],
          "scattercarpet": [
           {
            "marker": {
             "colorbar": {
              "outlinewidth": 0,
              "ticks": ""
             }
            },
            "type": "scattercarpet"
           }
          ],
          "scattergeo": [
           {
            "marker": {
             "colorbar": {
              "outlinewidth": 0,
              "ticks": ""
             }
            },
            "type": "scattergeo"
           }
          ],
          "scattergl": [
           {
            "marker": {
             "colorbar": {
              "outlinewidth": 0,
              "ticks": ""
             }
            },
            "type": "scattergl"
           }
          ],
          "scattermapbox": [
           {
            "marker": {
             "colorbar": {
              "outlinewidth": 0,
              "ticks": ""
             }
            },
            "type": "scattermapbox"
           }
          ],
          "scatterpolar": [
           {
            "marker": {
             "colorbar": {
              "outlinewidth": 0,
              "ticks": ""
             }
            },
            "type": "scatterpolar"
           }
          ],
          "scatterpolargl": [
           {
            "marker": {
             "colorbar": {
              "outlinewidth": 0,
              "ticks": ""
             }
            },
            "type": "scatterpolargl"
           }
          ],
          "scatterternary": [
           {
            "marker": {
             "colorbar": {
              "outlinewidth": 0,
              "ticks": ""
             }
            },
            "type": "scatterternary"
           }
          ],
          "surface": [
           {
            "colorbar": {
             "outlinewidth": 0,
             "ticks": ""
            },
            "colorscale": [
             [
              0,
              "#0d0887"
             ],
             [
              0.1111111111111111,
              "#46039f"
             ],
             [
              0.2222222222222222,
              "#7201a8"
             ],
             [
              0.3333333333333333,
              "#9c179e"
             ],
             [
              0.4444444444444444,
              "#bd3786"
             ],
             [
              0.5555555555555556,
              "#d8576b"
             ],
             [
              0.6666666666666666,
              "#ed7953"
             ],
             [
              0.7777777777777778,
              "#fb9f3a"
             ],
             [
              0.8888888888888888,
              "#fdca26"
             ],
             [
              1,
              "#f0f921"
             ]
            ],
            "type": "surface"
           }
          ],
          "table": [
           {
            "cells": {
             "fill": {
              "color": "#EBF0F8"
             },
             "line": {
              "color": "white"
             }
            },
            "header": {
             "fill": {
              "color": "#C8D4E3"
             },
             "line": {
              "color": "white"
             }
            },
            "type": "table"
           }
          ]
         },
         "layout": {
          "annotationdefaults": {
           "arrowcolor": "#2a3f5f",
           "arrowhead": 0,
           "arrowwidth": 1
          },
          "autotypenumbers": "strict",
          "coloraxis": {
           "colorbar": {
            "outlinewidth": 0,
            "ticks": ""
           }
          },
          "colorscale": {
           "diverging": [
            [
             0,
             "#8e0152"
            ],
            [
             0.1,
             "#c51b7d"
            ],
            [
             0.2,
             "#de77ae"
            ],
            [
             0.3,
             "#f1b6da"
            ],
            [
             0.4,
             "#fde0ef"
            ],
            [
             0.5,
             "#f7f7f7"
            ],
            [
             0.6,
             "#e6f5d0"
            ],
            [
             0.7,
             "#b8e186"
            ],
            [
             0.8,
             "#7fbc41"
            ],
            [
             0.9,
             "#4d9221"
            ],
            [
             1,
             "#276419"
            ]
           ],
           "sequential": [
            [
             0,
             "#0d0887"
            ],
            [
             0.1111111111111111,
             "#46039f"
            ],
            [
             0.2222222222222222,
             "#7201a8"
            ],
            [
             0.3333333333333333,
             "#9c179e"
            ],
            [
             0.4444444444444444,
             "#bd3786"
            ],
            [
             0.5555555555555556,
             "#d8576b"
            ],
            [
             0.6666666666666666,
             "#ed7953"
            ],
            [
             0.7777777777777778,
             "#fb9f3a"
            ],
            [
             0.8888888888888888,
             "#fdca26"
            ],
            [
             1,
             "#f0f921"
            ]
           ],
           "sequentialminus": [
            [
             0,
             "#0d0887"
            ],
            [
             0.1111111111111111,
             "#46039f"
            ],
            [
             0.2222222222222222,
             "#7201a8"
            ],
            [
             0.3333333333333333,
             "#9c179e"
            ],
            [
             0.4444444444444444,
             "#bd3786"
            ],
            [
             0.5555555555555556,
             "#d8576b"
            ],
            [
             0.6666666666666666,
             "#ed7953"
            ],
            [
             0.7777777777777778,
             "#fb9f3a"
            ],
            [
             0.8888888888888888,
             "#fdca26"
            ],
            [
             1,
             "#f0f921"
            ]
           ]
          },
          "colorway": [
           "#636efa",
           "#EF553B",
           "#00cc96",
           "#ab63fa",
           "#FFA15A",
           "#19d3f3",
           "#FF6692",
           "#B6E880",
           "#FF97FF",
           "#FECB52"
          ],
          "font": {
           "color": "#2a3f5f"
          },
          "geo": {
           "bgcolor": "white",
           "lakecolor": "white",
           "landcolor": "#E5ECF6",
           "showlakes": true,
           "showland": true,
           "subunitcolor": "white"
          },
          "hoverlabel": {
           "align": "left"
          },
          "hovermode": "closest",
          "mapbox": {
           "style": "light"
          },
          "paper_bgcolor": "white",
          "plot_bgcolor": "#E5ECF6",
          "polar": {
           "angularaxis": {
            "gridcolor": "white",
            "linecolor": "white",
            "ticks": ""
           },
           "bgcolor": "#E5ECF6",
           "radialaxis": {
            "gridcolor": "white",
            "linecolor": "white",
            "ticks": ""
           }
          },
          "scene": {
           "xaxis": {
            "backgroundcolor": "#E5ECF6",
            "gridcolor": "white",
            "gridwidth": 2,
            "linecolor": "white",
            "showbackground": true,
            "ticks": "",
            "zerolinecolor": "white"
           },
           "yaxis": {
            "backgroundcolor": "#E5ECF6",
            "gridcolor": "white",
            "gridwidth": 2,
            "linecolor": "white",
            "showbackground": true,
            "ticks": "",
            "zerolinecolor": "white"
           },
           "zaxis": {
            "backgroundcolor": "#E5ECF6",
            "gridcolor": "white",
            "gridwidth": 2,
            "linecolor": "white",
            "showbackground": true,
            "ticks": "",
            "zerolinecolor": "white"
           }
          },
          "shapedefaults": {
           "line": {
            "color": "#2a3f5f"
           }
          },
          "ternary": {
           "aaxis": {
            "gridcolor": "white",
            "linecolor": "white",
            "ticks": ""
           },
           "baxis": {
            "gridcolor": "white",
            "linecolor": "white",
            "ticks": ""
           },
           "bgcolor": "#E5ECF6",
           "caxis": {
            "gridcolor": "white",
            "linecolor": "white",
            "ticks": ""
           }
          },
          "title": {
           "x": 0.05
          },
          "xaxis": {
           "automargin": true,
           "gridcolor": "white",
           "linecolor": "white",
           "ticks": "",
           "title": {
            "standoff": 15
           },
           "zerolinecolor": "white",
           "zerolinewidth": 2
          },
          "yaxis": {
           "automargin": true,
           "gridcolor": "white",
           "linecolor": "white",
           "ticks": "",
           "title": {
            "standoff": 15
           },
           "zerolinecolor": "white",
           "zerolinewidth": 2
          }
         }
        },
        "title": {
         "text": "Confusion Matrix"
        },
        "width": 800,
        "xaxis": {
         "dtick": 1,
         "gridcolor": "rgb(0, 0, 0)",
         "side": "top",
         "ticks": ""
        },
        "yaxis": {
         "dtick": 1,
         "ticks": "",
         "ticksuffix": "  "
        }
       }
      }
     },
     "metadata": {},
     "output_type": "display_data"
    }
   ],
   "source": [
    "evaluate_model(DecisionTreeClassifier(), X_train, X_test, y_train, y_test)"
   ]
  },
  {
   "cell_type": "code",
   "execution_count": null,
   "metadata": {},
   "outputs": [],
   "source": []
  }
 ],
 "metadata": {
  "kernelspec": {
   "display_name": "CSCI_5502",
   "language": "python",
   "name": "python3"
  },
  "language_info": {
   "codemirror_mode": {
    "name": "ipython",
    "version": 3
   },
   "file_extension": ".py",
   "mimetype": "text/x-python",
   "name": "python",
   "nbconvert_exporter": "python",
   "pygments_lexer": "ipython3",
   "version": "3.11.7"
  }
 },
 "nbformat": 4,
 "nbformat_minor": 2
}
